{
 "cells": [
  {
   "cell_type": "code",
   "execution_count": 11,
   "metadata": {},
   "outputs": [],
   "source": [
    "import matplotlib.pyplot as plt\n",
    "import seaborn as sns\n",
    "import pandas as pd\n",
    "import numpy as np"
   ]
  },
  {
   "cell_type": "code",
   "execution_count": 3,
   "metadata": {},
   "outputs": [
    {
     "data": {
      "text/html": [
       "<div>\n",
       "<style scoped>\n",
       "    .dataframe tbody tr th:only-of-type {\n",
       "        vertical-align: middle;\n",
       "    }\n",
       "\n",
       "    .dataframe tbody tr th {\n",
       "        vertical-align: top;\n",
       "    }\n",
       "\n",
       "    .dataframe thead th {\n",
       "        text-align: right;\n",
       "    }\n",
       "</style>\n",
       "<table border=\"1\" class=\"dataframe\">\n",
       "  <thead>\n",
       "    <tr style=\"text-align: right;\">\n",
       "      <th></th>\n",
       "      <th>genomeSize</th>\n",
       "      <th>contigNums</th>\n",
       "      <th>N50</th>\n",
       "    </tr>\n",
       "    <tr>\n",
       "      <th>#genome</th>\n",
       "      <th></th>\n",
       "      <th></th>\n",
       "      <th></th>\n",
       "    </tr>\n",
       "  </thead>\n",
       "  <tbody>\n",
       "    <tr>\n",
       "      <th>AAA_6.re.fna</th>\n",
       "      <td>12091446</td>\n",
       "      <td>4893</td>\n",
       "      <td>129876.0</td>\n",
       "    </tr>\n",
       "    <tr>\n",
       "      <th>AAB_6.re.fna</th>\n",
       "      <td>12362047</td>\n",
       "      <td>5814</td>\n",
       "      <td>127513.0</td>\n",
       "    </tr>\n",
       "    <tr>\n",
       "      <th>AAC_6.re.fna</th>\n",
       "      <td>14102010</td>\n",
       "      <td>4908</td>\n",
       "      <td>70504.0</td>\n",
       "    </tr>\n",
       "    <tr>\n",
       "      <th>AAD_6.re.fna</th>\n",
       "      <td>11847030</td>\n",
       "      <td>2093</td>\n",
       "      <td>170450.0</td>\n",
       "    </tr>\n",
       "    <tr>\n",
       "      <th>AAE_6.re.fna</th>\n",
       "      <td>11941110</td>\n",
       "      <td>2613</td>\n",
       "      <td>147389.0</td>\n",
       "    </tr>\n",
       "    <tr>\n",
       "      <th>...</th>\n",
       "      <td>...</td>\n",
       "      <td>...</td>\n",
       "      <td>...</td>\n",
       "    </tr>\n",
       "    <tr>\n",
       "      <th>YDK.re.fna</th>\n",
       "      <td>11865107</td>\n",
       "      <td>1642</td>\n",
       "      <td>109126.0</td>\n",
       "    </tr>\n",
       "    <tr>\n",
       "      <th>YDL.re.fna</th>\n",
       "      <td>11995142</td>\n",
       "      <td>2221</td>\n",
       "      <td>133517.0</td>\n",
       "    </tr>\n",
       "    <tr>\n",
       "      <th>YDM.re.fna</th>\n",
       "      <td>11808085</td>\n",
       "      <td>1775</td>\n",
       "      <td>105035.0</td>\n",
       "    </tr>\n",
       "    <tr>\n",
       "      <th>YDN.re.fna</th>\n",
       "      <td>12418338</td>\n",
       "      <td>6119</td>\n",
       "      <td>144105.0</td>\n",
       "    </tr>\n",
       "    <tr>\n",
       "      <th>YDO.re.fna</th>\n",
       "      <td>12006911</td>\n",
       "      <td>2843</td>\n",
       "      <td>141711.0</td>\n",
       "    </tr>\n",
       "  </tbody>\n",
       "</table>\n",
       "<p>1913 rows × 3 columns</p>\n",
       "</div>"
      ],
      "text/plain": [
       "              genomeSize  contigNums       N50\n",
       "#genome                                       \n",
       "AAA_6.re.fna    12091446        4893  129876.0\n",
       "AAB_6.re.fna    12362047        5814  127513.0\n",
       "AAC_6.re.fna    14102010        4908   70504.0\n",
       "AAD_6.re.fna    11847030        2093  170450.0\n",
       "AAE_6.re.fna    11941110        2613  147389.0\n",
       "...                  ...         ...       ...\n",
       "YDK.re.fna      11865107        1642  109126.0\n",
       "YDL.re.fna      11995142        2221  133517.0\n",
       "YDM.re.fna      11808085        1775  105035.0\n",
       "YDN.re.fna      12418338        6119  144105.0\n",
       "YDO.re.fna      12006911        2843  141711.0\n",
       "\n",
       "[1913 rows x 3 columns]"
      ]
     },
     "execution_count": 3,
     "metadata": {},
     "output_type": "execute_result"
    }
   ],
   "source": [
    "infile = 'outputs/genomeStats.txt'\n",
    "df = pd.read_csv(infile,index_col=0)\n",
    "df"
   ]
  },
  {
   "cell_type": "code",
   "execution_count": 13,
   "metadata": {},
   "outputs": [
    {
     "data": {
      "image/png": "[encoded data removed]",
      "text/plain": [
       "<Figure size 720x216 with 3 Axes>"
      ]
     },
     "metadata": {
      "needs_background": "light"
     },
     "output_type": "display_data"
    }
   ],
   "source": [
    "plt.figure(figsize=(10,3))\n",
    "strain_numb=len(df)\n",
    "plt.suptitle(\"%s strains genome evaluation\"%strain_numb,fontsize=15)\n",
    "plt.subplot(1,3,1)\n",
    "plt.hist(df['genomeSize'].values/1e6,100,color='steelblue')\n",
    "plt.xlabel('Genome size (Mb)')\n",
    "plt.ylabel('Number of strains')\n",
    "\n",
    "plt.subplot(1,3,2)\n",
    "plt.hist(df['contigNums'],100,color='steelblue')\n",
    "plt.xlabel('Number of contigs')\n",
    "plt.ylabel('Number of strains')\n",
    "\n",
    "plt.subplot(1,3,3)\n",
    "plt.hist(df['N50'].values/1e3,100,color='steelblue')\n",
    "plt.xlabel('N50 (kb)')\n",
    "plt.ylabel('Number of strains')\n",
    "\n",
    "plt.tight_layout()\n",
    "plt.savefig('outputs/genomeStats.png')\n",
    "plt.show()"
   ]
  },
  {
   "cell_type": "code",
   "execution_count": null,
   "metadata": {},
   "outputs": [],
   "source": []
  }
 ],
 "metadata": {
  "kernelspec": {
   "display_name": "Python 3 (ipykernel)",
   "language": "python",
   "name": "python3"
  },
  "language_info": {
   "codemirror_mode": {
    "name": "ipython",
    "version": 3
   },
   "file_extension": ".py",
   "mimetype": "text/x-python",
   "name": "python",
   "nbconvert_exporter": "python",
   "pygments_lexer": "ipython3",
   "version": "3.10.4"
  }
 },
 "nbformat": 4,
 "nbformat_minor": 4
}