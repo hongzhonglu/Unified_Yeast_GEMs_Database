{
 "cells": [
  {
   "attachments": {},
   "cell_type": "markdown",
   "metadata": {},
   "source": [
    "### Build annotation file for iTol phylogenetic tree\n",
    "1. strip color dataset for strain type\n",
    "2. color gradient dataset for genome size\n",
    "3. color gardient dataset for proteome size\n",
    "4. strip color dataset for source origin\n"
   ]
  },
  {
   "cell_type": "code",
   "execution_count": 1,
   "metadata": {},
   "outputs": [],
   "source": [
    "import pandas as pd\n",
    "import os\n",
    "\n",
    "os.chdir(r'D:\\code\\github\\Unified_Yeast_GEMs_Database_from_13pro\\Unified_Yeast_GEMs_Database')\n"
   ]
  },
  {
   "cell_type": "code",
   "execution_count": 2,
   "metadata": {},
   "outputs": [],
   "source": [
    "# load aniMatrx to get all strainIDlist\n",
    "aniMatrix=pd.read_csv('code/1.genome_collection/outputs/sce1900_aniMatrix.csv',index_col=0)\n",
    "strainIDlist=aniMatrix.index.tolist()\n",
    "\n",
    "all_strain_info=pd.read_excel('data/1897_strains_info.xlsx',index_col=0)"
   ]
  },
  {
   "attachments": {},
   "cell_type": "markdown",
   "metadata": {},
   "source": [
    "#### 1. strip color dataset for strain type"
   ]
  },
  {
   "cell_type": "code",
   "execution_count": null,
   "metadata": {},
   "outputs": [],
   "source": [
    "# use genome_id column as index and choose type column as column in df_straintype\n",
    "df_straintype=all_strain_info[['genome_id','sub_type']]\n",
    "df_straintype.set_index('genome_id',inplace=True)\n",
    "\n",
    "# change all 0 value as unknown\n",
    "df_straintype.replace(0,'unknown',inplace=True)\n",
    "df_straintype=df_straintype[df_straintype.index.isin(strainIDlist)]\n",
    "\n",
    "# set different color for different strain type\n",
    "# total strain type: Wine Wild Fermentation Human Beer unknown Sake Bakery Bioethanol Soil Industrial Distillery Dairy Insect Lab Cider\n",
    "# color list: #ff0000 #ffa500 #ffff00 #008000 #00ffff #0000ff #ee82ee #800000 #808000 #008080 #000080 #4b0082 #ff69b4 #00ff7f #ffa07a #a9a9a9\n",
    "df_straintype['color']=''\n",
    "df_straintype.loc[df_straintype['sub_type']=='Wine','color']='#ff0000'\n",
    "df_straintype.loc[df_straintype['sub_type']=='Wild','color']='#ffa500'\n",
    "df_straintype.loc[df_straintype['sub_type']=='Fermentation','color']='#ffff00'\n",
    "df_straintype.loc[df_straintype['sub_type']=='Human','color']='#008000'\n",
    "df_straintype.loc[df_straintype['sub_type']=='Beer','color']='#00ffff'\n",
    "df_straintype.loc[df_straintype['sub_type']=='unknown','color']='#0000ff'\n",
    "df_straintype.loc[df_straintype['sub_type']=='Sake','color']='#ee82ee'\n",
    "df_straintype.loc[df_straintype['sub_type']=='Bakery','color']='#800000'\n",
    "df_straintype.loc[df_straintype['sub_type']=='Bioethanol','color']='#808000'\n",
    "df_straintype.loc[df_straintype['sub_type']=='Soil','color']='#008080'\n",
    "df_straintype.loc[df_straintype['sub_type']=='Industrial','color']='#000080'\n",
    "df_straintype.loc[df_straintype['sub_type']=='Distillery','color']='#4b0082'\n",
    "df_straintype.loc[df_straintype['sub_type']=='Dairy','color']='#ff69b4'\n",
    "df_straintype.loc[df_straintype['sub_type']=='Insect','color']='#00ff7f'\n",
    "df_straintype.loc[df_straintype['sub_type']=='Lab','color']='#ffa07a'\n",
    "df_straintype.loc[df_straintype['sub_type']=='Cider','color']='#a9a9a9'\n",
    "\n",
    "# change the order of columns\n",
    "df_straintype=df_straintype[['color','sub_type']]\n",
    "# write df_straintype behind the code/1.genome_collection/outputs/sce1900_strain_type_color_strip.txt and use space as separator\n",
    "df_straintype.to_csv('code/1.genome_collection/outputs/sce1900_strain_type_color_strip.txt',sep=' ')\n",
    "\n",
    "# add content in sce1900_strain_type_color_strip0.txt to the head of sce1900_strain_type_color_strip.txt\n",
    "with open('code/1.genome_collection/outputs/sce1900_strain_type_color_strip0.txt','r') as f:\n",
    "    content=f.read()\n",
    "    with open('code/1.genome_collection/outputs/sce1900_strain_type_color_strip.txt','r+') as f1:\n",
    "        original=f1.read()\n",
    "        f1.seek(0)   # move the cursor to the head of file\n",
    "        f1.write(content+'\\n'+original)"
   ]
  },
  {
   "attachments": {},
   "cell_type": "markdown",
   "metadata": {},
   "source": [
    "#### 2.color gradient dataset for genome size"
   ]
  },
  {
   "cell_type": "code",
   "execution_count": 3,
   "metadata": {},
   "outputs": [],
   "source": [
    "df_genomeSize=all_strain_info[['genome_id','genomeSize']]\n",
    "df_genomeSize.set_index('genome_id',inplace=True)\n",
    "\n",
    "df_genomeSize=df_genomeSize[df_genomeSize.index.isin(strainIDlist)]\n",
    "# write df_genomeSize behind the code/1.genome_collection/outputs/sce1900_genome_size_strip.txt and use space as separator\n",
    "df_genomeSize.to_csv('code/1.genome_collection/outputs/sce1900_genome_size_gradient.txt',sep=' ')\n",
    "\n",
    "with open('data\\itol_templates\\dataset_gradient_template.txt','r') as f:\n",
    "    content=f.read()\n",
    "    with open('code/1.genome_collection/outputs/sce1900_genome_size_gradient.txt','r+') as f1:\n",
    "        original=f1.read()\n",
    "        f1.seek(0)   # move the cursor to the head of file\n",
    "        f1.write(content+'\\n'+original)"
   ]
  },
  {
   "attachments": {},
   "cell_type": "markdown",
   "metadata": {},
   "source": [
    "#### 3. color gradient dataset from proteome size"
   ]
  },
  {
   "cell_type": "code",
   "execution_count": 5,
   "metadata": {},
   "outputs": [],
   "source": [
    "df_geneNumb=all_strain_info[['genome_id','gene_numb']]\n",
    "df_geneNumb.set_index('genome_id',inplace=True)\n",
    "\n",
    "df_geneNumb=df_geneNumb[df_geneNumb.index.isin(strainIDlist)]\n",
    "# only keep the strain with gene number > 5000\n",
    "df_geneNumb=df_geneNumb[df_geneNumb['gene_numb']>5000]\n",
    "# write df_geneNumb behind the code/1.genome_collection/outputs/sce1900_gene_numb_gradient.txt and use space as separator\n",
    "df_geneNumb.to_csv('code/1.genome_collection/outputs/sce1900_gene_numb_gradient.txt',sep=' ')\n",
    "\n",
    "with open('data\\itol_templates\\dataset_gradient_template.txt','r') as f:\n",
    "    content=f.read()\n",
    "    with open('code/1.genome_collection/outputs/sce1900_gene_numb_gradient.txt','r+') as f1:\n",
    "        original=f1.read()\n",
    "        f1.seek(0)   # move the cursor to the head of file\n",
    "        f1.write(content+'\\n'+original)"
   ]
  },
  {
   "attachments": {},
   "cell_type": "markdown",
   "metadata": {},
   "source": [
    "#### 4.label color dataset for source origin"
   ]
  },
  {
   "cell_type": "code",
   "execution_count": 6,
   "metadata": {},
   "outputs": [
    {
     "data": {
      "text/plain": [
       "source             \n",
       "1011_nature            1011\n",
       "lg_others               327\n",
       "bai_266                 266\n",
       "bai_126                 126\n",
       "YJM_92                   91\n",
       "lg_others,PRJEB7675      41\n",
       "giga_36                  35\n",
       "dtype: int64"
      ]
     },
     "execution_count": 6,
     "metadata": {},
     "output_type": "execute_result"
    }
   ],
   "source": [
    "df_strain_source=all_strain_info[['genome_id','source']]\n",
    "df_strain_source.set_index('genome_id',inplace=True)\n",
    "\n",
    "df_strain_source.value_counts()"
   ]
  },
  {
   "cell_type": "code",
   "execution_count": 14,
   "metadata": {},
   "outputs": [],
   "source": [
    "# rename lable, 1011_nature:Peter,J.et_al(2018),lg_other:Li,G.et_al(2019),bar_266:Duan,S.et_al(2018),bar_126:Han,D.et_al.(2021),\n",
    "# YJM_92:Zhu,Y.et_al.(2016), giga_36:Kang,K.et_al.(2019),lg_others,PRJEB7675:ncbi_PRJEB7675\n",
    "\n",
    "df_strain_source.loc[df_strain_source['source']=='1011_nature','source']='Peter,J.et_al(2018)'\n",
    "df_strain_source.loc[df_strain_source['source']=='lg_other','source']='Li,G.et_al(2019)'\n",
    "df_strain_source.loc[df_strain_source['source']=='bar_266','source']='Duan,S.et_al(2018)'\n",
    "df_strain_source.loc[df_strain_source['source']=='bar_126','source']='Han,D.et_al.(2021)'\n",
    "df_strain_source.loc[df_strain_source['source']=='YJM_92','source']='Zhu,Y.et_al.(2016)'\n",
    "df_strain_source.loc[df_strain_source['source']=='giga_36','source']='Kang,K.et_al.(2019)'\n",
    "df_strain_source.loc[df_strain_source['source']=='lg_others','source']='Li,G.et_al(2019)'\n",
    "df_strain_source.loc[df_strain_source['source']=='PRJEB7675','source']='ncbi_PRJEB7675'\n",
    "\n",
    "# set color for each source：#f44336 #744700 #ce7e00 #8fce00 #2986cc #16537e #6a329f #c90076\n",
    "# change itol color to RGB color: rgba(255,0,0,0.5) rgba(0,0,255,0.5) rgba(0,255,255,0.5) rgba(0,255,0,0.5) rgba(192,192,192,0.5) rgba(255,255,0,0.5) rgba(128,42,42,0.5)\n",
    "\n",
    "df_strain_source['color']=''\n",
    "df_strain_source.loc[df_strain_source['source']=='Peter,J.et_al(2018)','color']='rgba(255,0,0,0.5)'\n",
    "df_strain_source.loc[df_strain_source['source']=='Li,G.et_al(2019)','color']='rgba(0,0,255,0.5)'\n",
    "df_strain_source.loc[df_strain_source['source']=='Duan,S.et_al(2018)','color']='rgba(0,255,255,0.5)'\n",
    "df_strain_source.loc[df_strain_source['source']=='Han,D.et_al.(2021)','color']='rgba(0,255,0,0.5)'\n",
    "df_strain_source.loc[df_strain_source['source']=='Zhu,Y.et_al.(2016)','color']='rgba(192,192,192,0.5)'\n",
    "df_strain_source.loc[df_strain_source['source']=='Kang,K.et_al.(2019)','color']='rgba(255,255,0,0.5)'\n",
    "df_strain_source.loc[df_strain_source['source']=='ncbi_PRJEB7675','color']='rgba(128,42,42,0.5)'\n",
    "df_strain_source.loc[df_strain_source['source']=='Li,G.et_al(2019)','color']='rgba(0,0,255,0.5)'\n",
    "\n",
    "# set order: source, color\n",
    "df_strain_source2=df_strain_source.copy()\n",
    "df_strain_source2['label']='label_background'\n",
    "df_strain_source2=df_strain_source2[['label','color']]\n",
    "\n",
    "# # set all word to lower case\n",
    "# df_strain_source2['color']=df_strain_source2['color'].str.lower()\n",
    "\n",
    "# write df_strain_source behind the code/1.genome_collection/outputs/sce1900_strain_source_color_strip.txt and use space as separator\n",
    "df_strain_source2.to_csv('code/1.genome_collection/outputs/sce1900_strain_source_color_label.txt',sep=' ')\n",
    "\n",
    "with open(r'data\\itol_templates\\colors_styles_template.txt','r') as f:\n",
    "    content=f.read()\n",
    "    with open('code/1.genome_collection/outputs/sce1900_strain_source_color_label.txt','r+') as f1:\n",
    "        original=f1.read()\n",
    "        f1.seek(0)   # move the cursor to the head of file\n",
    "        f1.write(content+'\\n'+original)"
   ]
  },
  {
   "cell_type": "code",
   "execution_count": null,
   "metadata": {},
   "outputs": [],
   "source": []
  }
 ],
 "metadata": {
  "kernelspec": {
   "display_name": "why",
   "language": "python",
   "name": "python3"
  },
  "language_info": {
   "codemirror_mode": {
    "name": "ipython",
    "version": 3
   },
   "file_extension": ".py",
   "mimetype": "text/x-python",
   "name": "python",
   "nbconvert_exporter": "python",
   "pygments_lexer": "ipython3",
   "version": "3.10.4"
  },
  "orig_nbformat": 4
 },
 "nbformat": 4,
 "nbformat_minor": 2
}
