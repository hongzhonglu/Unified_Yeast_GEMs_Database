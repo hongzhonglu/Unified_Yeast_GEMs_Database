{
 "cells": [
  {
   "cell_type": "markdown",
   "metadata": {},
   "source": [
    "## Charaterize the difference among bioethanol vs human vs wild type strains according transcriptome integrated fluxes data"
   ]
  },
  {
   "cell_type": "code",
   "execution_count": 4,
   "metadata": {},
   "outputs": [],
   "source": [
    "import pandas as pd\n",
    "import numpy as np\n",
    "import matplotlib.pyplot as plt\n",
    "import seaborn as sns\n",
    "from sklearn.preprocessing import StandardScaler\n",
    "import umap\n",
    "import os\n",
    "\n",
    "os.chdir(r'D:\\code\\github\\Unified_Yeast_GEMs_Database_from_13pro\\Unified_Yeast_GEMs_Database')"
   ]
  },
  {
   "cell_type": "code",
   "execution_count": 5,
   "metadata": {},
   "outputs": [],
   "source": [
    "# load strain type infomation\n",
    "df_strain_info=pd.read_csv('data/1892_strains_info.csv',index_col=0)\n",
    "human_strainList=df_strain_info[df_strain_info['nature_clade']=='10. French Guiana human '].index.tolist()\n",
    "wt_strainList=df_strain_info[df_strain_info['nature_clade'].isin(['14. CHNIII ','20. CHN V ', '15. CHNII ','17. Taiwanese ', '24. Asian islands ', '18. Far East Asia ', '19. Malaysian ', '22. Far East Russian '])].index.tolist()\n",
    "bioethanol_strainList=df_strain_info[df_strain_info['nature_clade']=='3. Brazilian bioethanol '].index.tolist()\n"
   ]
  },
  {
   "cell_type": "code",
   "execution_count": 6,
   "metadata": {},
   "outputs": [],
   "source": [
    "# load pathway information\n",
    "df_r_tpmfc_fluxfc=pd.read_csv('code/7.transcriptomics_ssGEMs_analysis/output/pearson_tpmfc_fluxfc.csv',index_col=0)\n",
    "# only keep rxn p value less than 0.05\n",
    "df_r_tpmfc_fluxfc = df_r_tpmfc_fluxfc[df_r_tpmfc_fluxfc['p_value']<0.05]\n",
    "# remove rxns with pearson correlation coefficient <0\n",
    "df_r_tpmfc_fluxfc = df_r_tpmfc_fluxfc[df_r_tpmfc_fluxfc['pearson correlation coefficient']>0]\n",
    "# df_r_tpmfc_fluxfc groupby subsystem, and sort by the number of rxns in each subsystem\n",
    "df_subsystem_tpm_flux = df_r_tpmfc_fluxfc.groupby('subsystem').count()\n",
    "# calculate mean pearson correlation coefficient for each subsystem\n",
    "df_subsystem_tpm_flux['mean_pearson'] = df_r_tpmfc_fluxfc.groupby('subsystem')['pearson correlation coefficient'].mean()\n",
    "df_subsystem_tpm_flux['p_value']=df_r_tpmfc_fluxfc.groupby('subsystem')['p_value'].mean()\n",
    "df_subsystem_tpm_flux = df_subsystem_tpm_flux.sort_values(by='mean_pearson', ascending=False)\n",
    "# remove out subsystems which have less than 5 rxns\n",
    "df_subsystem_tpm_flux = df_subsystem_tpm_flux[df_subsystem_tpm_flux['pearson correlation coefficient']>5]\n",
    "check_subsystemList = df_subsystem_tpm_flux.index.tolist()\n",
    "# remove Transport\n",
    "check_subsystemList=[i for i in check_subsystemList if 'Transport' not in i]\n",
    "check_rxnList=df_r_tpmfc_fluxfc[df_r_tpmfc_fluxfc['subsystem'].isin(check_subsystemList)].index.tolist()\n"
   ]
  },
  {
   "cell_type": "markdown",
   "metadata": {},
   "source": [
    "### 1. Cluster by fluxes data"
   ]
  },
  {
   "cell_type": "code",
   "execution_count": 7,
   "metadata": {},
   "outputs": [],
   "source": [
    "def umap_cluster(raw_data,data_type,emetric=\"euclidean\",n_neighbors=15,min_dist=0.1,n_components=2):\n",
    "    # data归一化\n",
    "    data = raw_data.iloc[:,:-1]\n",
    "    data = StandardScaler().fit_transform(data)\n",
    "    data = pd.DataFrame(data, index=raw_data.index, columns=raw_data.columns[:-1])\n",
    "    #UMAP降维\n",
    "    reducer = umap.UMAP(n_neighbors=n_neighbors, min_dist=min_dist, n_components=n_components, metric=emetric)\n",
    "    embedding = reducer.fit_transform(data)\n",
    "    df_embedding = pd.DataFrame(embedding, index=raw_data.index, columns=[\"UMAP1\", \"UMAP2\"])\n",
    "    df_embedding[\"label\"]=raw_data[\"label\"]\n",
    "    # plot UMAP\n",
    "    sns.scatterplot(\n",
    "        x=\"UMAP1\", y=\"UMAP2\",\n",
    "        hue=\"label\",\n",
    "        data=df_embedding,\n",
    "        legend=\"full\",\n",
    "        alpha=0.8\n",
    "    )\n",
    "    plt.title(\"Sce strains clustering by %s\"%data_type)\n",
    "    plt.show()\n",
    "    return embedding"
   ]
  },
  {
   "cell_type": "code",
   "execution_count": 8,
   "metadata": {},
   "outputs": [],
   "source": [
    "# load flux data\n",
    "df_fluxes_data=pd.read_csv('code/7.transcriptomics_ssGEMs_analysis/output/PNAS_v3_tissGEMs_sample_flux.csv',index_col=0)\n",
    "# remove columns with 0 value in growth row\n",
    "df_fluxes_data=df_fluxes_data.loc[df_fluxes_data.index.isin(check_rxnList),:]\n",
    "\n",
    "# extract check rxns fluxes data\n",
    "df_target_fluxes_data=df_fluxes_data.loc[check_rxnList,:]\n",
    "\n",
    "# extract bioethanol, human and wt strains fluxes data and label them\n",
    "df_target_fluxes_data=df_target_fluxes_data.T\n",
    "df_target_fluxes_data.loc[df_target_fluxes_data.index.isin(bioethanol_strainList),'label']='bioethanol'\n",
    "df_target_fluxes_data.loc[df_target_fluxes_data.index.isin(human_strainList),'label']='human'\n",
    "df_target_fluxes_data.loc[df_target_fluxes_data.index.isin(wt_strainList),'label']='wt'\n",
    "# remove nan value in type column\n",
    "df_target_fluxes_data=df_target_fluxes_data.dropna(subset=['label'])\n",
    "#fill Nan value with 0\n",
    "df_target_fluxes_data=df_target_fluxes_data.fillna(0)\n",
    "# remove columns with all 0 value\n",
    "df_target_fluxes_data=df_target_fluxes_data.loc[:, (df_target_fluxes_data != 0).any(axis=0)]\n",
    "# remove columns with any value more than 10\n",
    "label=df_target_fluxes_data['label']\n",
    "df_target_fluxes_data=df_target_fluxes_data.iloc[:,:-1].loc[:, (df_target_fluxes_data.iloc[:,:-1] <= 10).all(axis=0)]\n",
    "df_target_fluxes_data['label']=label.values\n"
   ]
  },
  {
   "cell_type": "code",
   "execution_count": 9,
   "metadata": {},
   "outputs": [
    {
     "data": {
      "image/png": "[encoded data removed]",
      "text/plain": [
       "<Figure size 432x288 with 1 Axes>"
      ]
     },
     "metadata": {
      "needs_background": "light"
     },
     "output_type": "display_data"
    }
   ],
   "source": [
    "fluxes_embedding=umap_cluster(raw_data=df_target_fluxes_data,\n",
    "                              data_type='Fluxes')"
   ]
  },
  {
   "cell_type": "markdown",
   "metadata": {},
   "source": [
    "### 2.Random forest classification learn the difference among bioethanol vs human vs wild type"
   ]
  },
  {
   "cell_type": "code",
   "execution_count": 10,
   "metadata": {},
   "outputs": [],
   "source": [
    "from sklearn.ensemble import RandomForestClassifier\n",
    "from sklearn.model_selection import GridSearchCV\n",
    "from sklearn.model_selection import cross_val_score"
   ]
  },
  {
   "cell_type": "code",
   "execution_count": 11,
   "metadata": {},
   "outputs": [],
   "source": [
    "def random_forest():\n",
    "    parameters = {\n",
    "                    'max_features':np.arange(0.1,1.1,0.1),'n_estimators':[10,100,500,1000]\n",
    "    }\n",
    "    rf = RandomForestClassifier()\n",
    "    model=GridSearchCV(rf,parameters,n_jobs=1,cv=3)      #optimize the parameters\n",
    "    return model\n",
    "\n",
    "def do_cross_validation(X,y,model):\n",
    "    '''do cross validation to evaluate the model'''\n",
    "    scores = cross_val_score(model,X,y,scoring='accuracy',cv=5,n_jobs=1)\n",
    "    return scores"
   ]
  },
  {
   "cell_type": "code",
   "execution_count": 12,
   "metadata": {},
   "outputs": [
    {
     "name": "stdout",
     "output_type": "stream",
     "text": [
      "{'max_features': 0.5, 'n_estimators': 1000}\n",
      "0.6913250148544267\n"
     ]
    }
   ],
   "source": [
    "# train random forest model\n",
    "y=list(df_target_fluxes_data[\"label\"])\n",
    "y = np.array(y)\n",
    "X = df_target_fluxes_data.drop(columns=[\"label\"]).values\n",
    "model = random_forest()\n",
    "model.fit(X,y)\n",
    "result=do_cross_validation(X,y,model)\n",
    "print(model.best_params_)\n",
    "print(model.best_score_)"
   ]
  },
  {
   "cell_type": "code",
   "execution_count": 13,
   "metadata": {},
   "outputs": [],
   "source": [
    "# get the feature importance\n",
    "feature_importance = model.best_estimator_.feature_importances_\n",
    "feature_importance = pd.DataFrame(feature_importance,index=df_target_fluxes_data.drop(columns=[\"label\"]).columns,columns=[\"importance\"])\n",
    "feature_importance.sort_values(by=\"importance\",ascending=False,inplace=True)\n",
    "feature_importance=feature_importance[\"importance\"]\n"
   ]
  },
  {
   "cell_type": "code",
   "execution_count": 14,
   "metadata": {},
   "outputs": [
    {
     "name": "stdout",
     "output_type": "stream",
     "text": [
      "87\n"
     ]
    },
    {
     "data": {
      "image/png": "[encoded data removed]",
      "text/plain": [
       "<Figure size 360x360 with 1 Axes>"
      ]
     },
     "metadata": {
      "needs_background": "light"
     },
     "output_type": "display_data"
    }
   ],
   "source": [
    "# plot accumulation curve\n",
    "plt.figure(figsize=(5,5))\n",
    "percent = 0.8\n",
    "acc = []\n",
    "top_num = 0\n",
    "for i in range(len(feature_importance)):\n",
    "    summ = np.sum(feature_importance[:i+1])\n",
    "    if summ >= percent and top_num==0:\n",
    "        top_num = i\n",
    "        print(top_num)\n",
    "    acc.append(summ)\n",
    "plt.plot(np.arange(len(acc)),acc,linewidth=2)\n",
    "ylim = [0,1.05]\n",
    "xlim = plt.gca().get_xlim()\n",
    "plt.plot([top_num,top_num],[0,percent],'k--')\n",
    "plt.plot([xlim[0],top_num],[percent,percent],'k--')\n",
    "plt.xlim(xlim)\n",
    "plt.ylim(ylim)\n",
    "plt.yticks(np.arange(0,1.1,0.1))\n",
    "plt.xlabel('Number of rxns')\n",
    "plt.ylabel('Accumulated feature importance')\n",
    "plt.tight_layout()\n",
    "plt.show()"
   ]
  },
  {
   "cell_type": "code",
   "execution_count": 21,
   "metadata": {},
   "outputs": [
    {
     "data": {
      "text/html": [
       "<div>\n",
       "<style scoped>\n",
       "    .dataframe tbody tr th:only-of-type {\n",
       "        vertical-align: middle;\n",
       "    }\n",
       "\n",
       "    .dataframe tbody tr th {\n",
       "        vertical-align: top;\n",
       "    }\n",
       "\n",
       "    .dataframe thead th {\n",
       "        text-align: right;\n",
       "    }\n",
       "</style>\n",
       "<table border=\"1\" class=\"dataframe\">\n",
       "  <thead>\n",
       "    <tr style=\"text-align: right;\">\n",
       "      <th></th>\n",
       "      <th>feature_rxns</th>\n",
       "      <th>Total</th>\n",
       "    </tr>\n",
       "  </thead>\n",
       "  <tbody>\n",
       "    <tr>\n",
       "      <th>Glycolysis / gluconeogenesis</th>\n",
       "      <td>10</td>\n",
       "      <td>13</td>\n",
       "    </tr>\n",
       "    <tr>\n",
       "      <th>Phenylalanine, tyrosine and tryptophan biosynthesis</th>\n",
       "      <td>8</td>\n",
       "      <td>13</td>\n",
       "    </tr>\n",
       "    <tr>\n",
       "      <th>Glycerolipid metabolism</th>\n",
       "      <td>7</td>\n",
       "      <td>16</td>\n",
       "    </tr>\n",
       "    <tr>\n",
       "      <th>Citrate cycle (TCA cycle)</th>\n",
       "      <td>7</td>\n",
       "      <td>10</td>\n",
       "    </tr>\n",
       "    <tr>\n",
       "      <th>Arginine biosynthesis</th>\n",
       "      <td>7</td>\n",
       "      <td>7</td>\n",
       "    </tr>\n",
       "    <tr>\n",
       "      <th>Starch and sucrose metabolism</th>\n",
       "      <td>6</td>\n",
       "      <td>10</td>\n",
       "    </tr>\n",
       "    <tr>\n",
       "      <th>Glycerophospholipid metabolism</th>\n",
       "      <td>6</td>\n",
       "      <td>28</td>\n",
       "    </tr>\n",
       "    <tr>\n",
       "      <th>Purine metabolism</th>\n",
       "      <td>6</td>\n",
       "      <td>21</td>\n",
       "    </tr>\n",
       "    <tr>\n",
       "      <th>Pyrimidine metabolism</th>\n",
       "      <td>5</td>\n",
       "      <td>13</td>\n",
       "    </tr>\n",
       "    <tr>\n",
       "      <th>Pyruvate metabolism</th>\n",
       "      <td>4</td>\n",
       "      <td>6</td>\n",
       "    </tr>\n",
       "    <tr>\n",
       "      <th>Biosynthesis of unsaturated fatty acids</th>\n",
       "      <td>4</td>\n",
       "      <td>17</td>\n",
       "    </tr>\n",
       "    <tr>\n",
       "      <th>Alanine, aspartate and glutamate metabolism</th>\n",
       "      <td>3</td>\n",
       "      <td>9</td>\n",
       "    </tr>\n",
       "    <tr>\n",
       "      <th>Terpenoid backbone biosynthesis</th>\n",
       "      <td>3</td>\n",
       "      <td>8</td>\n",
       "    </tr>\n",
       "    <tr>\n",
       "      <th>Oxidative phosphorylation</th>\n",
       "      <td>3</td>\n",
       "      <td>6</td>\n",
       "    </tr>\n",
       "    <tr>\n",
       "      <th>Inositol phosphate metabolism</th>\n",
       "      <td>3</td>\n",
       "      <td>16</td>\n",
       "    </tr>\n",
       "    <tr>\n",
       "      <th>Valine, leucine and isoleucine metabolism</th>\n",
       "      <td>2</td>\n",
       "      <td>13</td>\n",
       "    </tr>\n",
       "    <tr>\n",
       "      <th>Glycine, serine and threonine metabolism</th>\n",
       "      <td>2</td>\n",
       "      <td>14</td>\n",
       "    </tr>\n",
       "    <tr>\n",
       "      <th>Cysteine and methionine metabolism</th>\n",
       "      <td>1</td>\n",
       "      <td>6</td>\n",
       "    </tr>\n",
       "  </tbody>\n",
       "</table>\n",
       "</div>"
      ],
      "text/plain": [
       "                                                    feature_rxns  Total\n",
       "Glycolysis / gluconeogenesis                                  10     13\n",
       "Phenylalanine, tyrosine and tryptophan biosynth...             8     13\n",
       "Glycerolipid metabolism                                        7     16\n",
       "Citrate cycle (TCA cycle)                                      7     10\n",
       "Arginine biosynthesis                                          7      7\n",
       "Starch and sucrose metabolism                                  6     10\n",
       "Glycerophospholipid metabolism                                 6     28\n",
       "Purine metabolism                                              6     21\n",
       "Pyrimidine metabolism                                          5     13\n",
       "Pyruvate metabolism                                            4      6\n",
       "Biosynthesis of unsaturated fatty acids                        4     17\n",
       "Alanine, aspartate and glutamate metabolism                    3      9\n",
       "Terpenoid backbone biosynthesis                                3      8\n",
       "Oxidative phosphorylation                                      3      6\n",
       "Inositol phosphate metabolism                                  3     16\n",
       "Valine, leucine and isoleucine metabolism                      2     13\n",
       "Glycine, serine and threonine metabolism                       2     14\n",
       "Cysteine and methionine metabolism                             1      6"
      ]
     },
     "execution_count": 21,
     "metadata": {},
     "output_type": "execute_result"
    }
   ],
   "source": [
    "# feature gene functional enrichment\n",
    "feature_rxns =feature_importance[:top_num].index.tolist()\n",
    "\n",
    "feature_rxns_info= df_r_tpmfc_fluxfc.loc[feature_rxns,:]\n",
    "pathway_count=pd.DataFrame(feature_rxns_info['subsystem'].value_counts().values,columns=['feature_rxns'],index=feature_rxns_info['subsystem'].value_counts().index.tolist())\n",
    "pathway_count['Total']=df_r_tpmfc_fluxfc['subsystem'].value_counts()[pathway_count.index.tolist()]\n",
    "pathway_count\n"
   ]
  },
  {
   "cell_type": "code",
   "execution_count": 16,
   "metadata": {},
   "outputs": [
    {
     "name": "stderr",
     "output_type": "stream",
     "text": [
      "C:\\Users\\wangh\\AppData\\Local\\Temp\\ipykernel_8388\\3786406269.py:3: SettingWithCopyWarning: \n",
      "A value is trying to be set on a copy of a slice from a DataFrame.\n",
      "Try using .loc[row_indexer,col_indexer] = value instead\n",
      "\n",
      "See the caveats in the documentation: https://pandas.pydata.org/pandas-docs/stable/user_guide/indexing.html#returning-a-view-versus-a-copy\n",
      "  df_feature_fluxes_data['label']=label.values\n"
     ]
    },
    {
     "data": {
      "image/png": "[encoded data removed]",
      "text/plain": [
       "<Figure size 432x288 with 1 Axes>"
      ]
     },
     "metadata": {
      "needs_background": "light"
     },
     "output_type": "display_data"
    }
   ],
   "source": [
    "# cluster according to the feature rxns\n",
    "df_feature_fluxes_data=df_target_fluxes_data[feature_rxns]\n",
    "df_feature_fluxes_data['label']=label.values\n",
    "\n",
    "fluxes_embedding=umap_cluster(raw_data=df_feature_fluxes_data,\n",
    "                                data_type='Fluxes')"
   ]
  },
  {
   "cell_type": "code",
   "execution_count": null,
   "metadata": {},
   "outputs": [],
   "source": []
  }
 ],
 "metadata": {
  "kernelspec": {
   "display_name": "why",
   "language": "python",
   "name": "python3"
  },
  "language_info": {
   "codemirror_mode": {
    "name": "ipython",
    "version": 3
   },
   "file_extension": ".py",
   "mimetype": "text/x-python",
   "name": "python",
   "nbconvert_exporter": "python",
   "pygments_lexer": "ipython3",
   "version": "3.10.4"
  },
  "orig_nbformat": 4
 },
 "nbformat": 4,
 "nbformat_minor": 2
}
