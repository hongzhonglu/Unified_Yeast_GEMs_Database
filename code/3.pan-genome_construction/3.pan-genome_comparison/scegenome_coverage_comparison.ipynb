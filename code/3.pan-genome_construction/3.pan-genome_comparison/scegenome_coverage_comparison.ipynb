{
 "cells": [
  {
   "attachments": {},
   "cell_type": "markdown",
   "metadata": {},
   "source": [
    "## compare the coverage of three pangenome to *S.cerevisiae* genome \n",
    "- Through s228c&CEN.PK BLASTp to the 3 pan-genome to evaluate the coverage to sce genes of the 3 pan-genome\n",
    "- blastp pan1800_v2 vs lgpangenome/napangenome\n",
    "\n"
   ]
  },
  {
   "cell_type": "code",
   "execution_count": 9,
   "metadata": {},
   "outputs": [],
   "source": [
    "import pandas as pd\n",
    "import numpy as np\n",
    "import matplotlib.pyplot as plt\n",
    "import seaborn as sns\n",
    "import os\n",
    "os.chdir(r'D:\\code\\github/Unified_Yeast_GEMs_Database')\n",
    "import sys\n",
    "sys.path.append(\"code\")\n",
    "from mainFunction import get_gene_lens"
   ]
  },
  {
   "cell_type": "code",
   "execution_count": 3,
   "metadata": {},
   "outputs": [],
   "source": [
    "def parse_blastp_result(blastp_file,blastp_dir,query,query_dir,subject,subject_dir):\n",
    "    # load blastp result file\n",
    "    df_blastp_file = pd.read_csv(blastp_dir+blastp_file, sep=\"\\t\", header=None, index_col=0)\n",
    "    columns = [\"subject\", \"identity\", \"alignment length\", \"mismatches\", \"gap opens\", \"q_start\", \"q_end\", \"s_start\",\n",
    "               \"s_end\", \"evalue\", \"bit score\"]\n",
    "    df_blastp_file.columns = columns\n",
    "\n",
    "    # get gene length for query and subject\n",
    "    query_lens=get_gene_lens(query,in_folder=query_dir)\n",
    "    subject_lens=get_gene_lens(subject,in_folder=subject_dir)\n",
    "    query_lens.set_index(\"gene\",inplace=True)\n",
    "    subject_lens.set_index(\"gene\",inplace=True)\n",
    "\n",
    "    # map query lens to blastp_file and name the column as \"query_lens\"\n",
    "    df_blastp_file=df_blastp_file.join(query_lens,how=\"left\")\n",
    "    df_blastp_file.rename(columns={\"gene_length\":\"query_lens\"},inplace=True)\n",
    "    # map subject lens to blastp_file and name the column as \"subject_lens\"\n",
    "    df_blastp_file=df_blastp_file.join(subject_lens,how=\"left\",on=\"subject\")\n",
    "    df_blastp_file.rename(columns={\"gene_length\":\"subject_lens\"},inplace=True)\n",
    "\n",
    "    # calculate COV for query and subject\n",
    "    df_blastp_file[\"query_cov\"]=(df_blastp_file[\"q_end\"]-df_blastp_file[\"q_start\"]+1)/df_blastp_file[\"query_lens\"]\n",
    "    df_blastp_file[\"subject_cov\"]=(df_blastp_file[\"s_end\"]-df_blastp_file[\"s_start\"]+1)/df_blastp_file[\"subject_lens\"]\n",
    "\n",
    "    return df_blastp_file\n",
    "\n",
    "\n",
    "def blastp_result_filter(df_blastp_result,cov,pid):\n",
    "    df_filtered=df_blastp_result[(df_blastp_result['identity']>=pid)&(df_blastp_result[\"query_cov\"]>=cov)&(df_blastp_result[\"subject_cov\"]>=cov)]\n",
    "    return df_filtered"
   ]
  },
  {
   "cell_type": "code",
   "execution_count": 16,
   "metadata": {},
   "outputs": [],
   "source": [
    "query_dir=r\"data\\genome\"\n",
    "query=\"S288c_R64.fasta\"\n",
    "blastp_dir=r\"code/3.pan-genome_construction/3.pan-genome_comparison/output/\"\n",
    "cenpk_genenumb=5451\n",
    "s288c_genenumb=6717\n",
    "# parse blastp result\n",
    "df_napan_blastp=parse_blastp_result(blastp_dir=blastp_dir,\n",
    "                                    blastp_file=\"s288c_vs_pan1011_blastp_result.txt\",\n",
    "                                    query=query,\n",
    "                                    query_dir=query_dir,\n",
    "                                    subject=\"na_pan1011.fasta\",\n",
    "                                    subject_dir=r\"data\\genome\")\n",
    "\n",
    "df_lgpan_blastp=parse_blastp_result(blastp_dir=blastp_dir,\n",
    "                                    blastp_file=\"s288c_vs_lgpan_blastp_result.txt\",\n",
    "                                    query=query,\n",
    "                                    query_dir=query_dir,\n",
    "                                    subject=\"lg_pan1392.fasta\",\n",
    "                                    subject_dir=r\"data\\genome\")\n",
    "\n",
    "df_pan1800_blastp=parse_blastp_result(blastp_dir=blastp_dir,\n",
    "                                      blastp_file=\"s288c_vs_pan1800_50_70_v2.txt\",\n",
    "                                      query=query,\n",
    "                                      query_dir=query_dir,\n",
    "                                      subject=\"pan1800.fasta\",\n",
    "                                      subject_dir=r\"data\\genome\")\n",
    "\n",
    "\n",
    "# filte blastp result\n",
    "pid=0.7\n",
    "cov=0.5\n",
    "df_lgpan_blastp=blastp_result_filter(df_lgpan_blastp,cov,pid)\n",
    "df_napan_blastp=blastp_result_filter(df_napan_blastp,cov,pid)\n",
    "df_pan1800_blastp=blastp_result_filter(df_pan1800_blastp,cov,pid)\n"
   ]
  },
  {
   "cell_type": "code",
   "execution_count": 17,
   "metadata": {},
   "outputs": [
    {
     "data": {
      "text/html": [
       "<div>\n",
       "<style scoped>\n",
       "    .dataframe tbody tr th:only-of-type {\n",
       "        vertical-align: middle;\n",
       "    }\n",
       "\n",
       "    .dataframe tbody tr th {\n",
       "        vertical-align: top;\n",
       "    }\n",
       "\n",
       "    .dataframe thead th {\n",
       "        text-align: right;\n",
       "    }\n",
       "</style>\n",
       "<table border=\"1\" class=\"dataframe\">\n",
       "  <thead>\n",
       "    <tr style=\"text-align: right;\">\n",
       "      <th></th>\n",
       "      <th>mapped s288c number</th>\n",
       "      <th>hit pan-genome number</th>\n",
       "      <th>s288c gene number</th>\n",
       "    </tr>\n",
       "  </thead>\n",
       "  <tbody>\n",
       "    <tr>\n",
       "      <th>na1011 pangenome</th>\n",
       "      <td>6051.0</td>\n",
       "      <td>6850.0</td>\n",
       "      <td>6717.0</td>\n",
       "    </tr>\n",
       "    <tr>\n",
       "      <th>lg1392 pangenome</th>\n",
       "      <td>6231.0</td>\n",
       "      <td>5968.0</td>\n",
       "      <td>6717.0</td>\n",
       "    </tr>\n",
       "    <tr>\n",
       "      <th>this1800 pangenome</th>\n",
       "      <td>6688.0</td>\n",
       "      <td>6276.0</td>\n",
       "      <td>6717.0</td>\n",
       "    </tr>\n",
       "  </tbody>\n",
       "</table>\n",
       "</div>"
      ],
      "text/plain": [
       "                    mapped s288c number  hit pan-genome number  \\\n",
       "na1011 pangenome                 6051.0                 6850.0   \n",
       "lg1392 pangenome                 6231.0                 5968.0   \n",
       "this1800 pangenome               6688.0                 6276.0   \n",
       "\n",
       "                    s288c gene number  \n",
       "na1011 pangenome               6717.0  \n",
       "lg1392 pangenome               6717.0  \n",
       "this1800 pangenome             6717.0  "
      ]
     },
     "execution_count": 17,
     "metadata": {},
     "output_type": "execute_result"
    }
   ],
   "source": [
    "df_mapping_gene_count=pd.DataFrame(index=[\"mapped s288c number\",\"hit pan-genome number\"])\n",
    "df_mapping_gene_count[\"na1011 pangenome\"]=[len(set(df_napan_blastp.index.tolist())),len(set(df_napan_blastp[\"subject\"].tolist()))]\n",
    "df_mapping_gene_count[\"lg1392 pangenome\"]=[len(set(df_lgpan_blastp.index.tolist())),len(set(df_lgpan_blastp[\"subject\"].tolist()))]\n",
    "df_mapping_gene_count[\"this1800 pangenome\"]=[len(set(df_pan1800_blastp.index.tolist())),len(set(df_pan1800_blastp[\"subject\"].tolist()))]\n",
    "df_mapping_gene_count.loc['s288c gene number',:]=[s288c_genenumb] * 3\n",
    "df_mapping_gene_count.T"
   ]
  },
  {
   "attachments": {},
   "cell_type": "markdown",
   "metadata": {},
   "source": [
    "### CEN.PK BLASTp to the 3 pan-genome"
   ]
  },
  {
   "cell_type": "code",
   "execution_count": 6,
   "metadata": {},
   "outputs": [],
   "source": [
    "query_dir=r\"data\\genome\"\n",
    "query=\"cenpk1.fasta\"\n",
    "blastp_dir=r\"code/3.pan-genome_construction/3.pan-genome_comparison/output/\"\n",
    "\n",
    "df_napan_cenpk_blastp=parse_blastp_result(blastp_dir=blastp_dir,\n",
    "                                    blastp_file=\"cenpk_vs_pan1011_blastp.txt\",\n",
    "                                    query=query,\n",
    "                                    query_dir=query_dir,\n",
    "                                    subject=\"na_pan1011.fasta\",\n",
    "                                    subject_dir=r\"data\\genome\")\n",
    "\n",
    "df_lgpan_cenpk_blastp=parse_blastp_result(blastp_dir=blastp_dir,\n",
    "                                    blastp_file=\"cenpk_vs_lgpan_blastp.txt\",\n",
    "                                    query=query,\n",
    "                                    query_dir=query_dir,\n",
    "                                    subject=\"lg_pan1392.fasta\",\n",
    "                                    subject_dir=r\"data\\genome\")\n",
    "\n",
    "df_pan1800_cenpk_blastp=parse_blastp_result(blastp_dir=blastp_dir,\n",
    "                                      blastp_file=\"cenpk_vs_pan1800_50_70_v2.txt\",\n",
    "                                      query=query,\n",
    "                                      query_dir=query_dir,\n",
    "                                      subject=\"pan1800.fasta\",\n",
    "                                      subject_dir=r\"data\\genome\")\n",
    "\n",
    "\n",
    "\n",
    "df_lgpan_cenpk_blastp=blastp_result_filter(df_lgpan_cenpk_blastp,cov=0.5,pid=0.7)\n",
    "df_napan_cenpk_blastp=blastp_result_filter(df_napan_cenpk_blastp,cov=0.5,pid=0.7)\n",
    "df_pan1800_cenpk_blastp=blastp_result_filter(df_pan1800_cenpk_blastp,cov=0.5,pid=0.7)\n"
   ]
  },
  {
   "cell_type": "code",
   "execution_count": 6,
   "metadata": {},
   "outputs": [
    {
     "data": {
      "text/html": [
       "<div>\n",
       "<style scoped>\n",
       "    .dataframe tbody tr th:only-of-type {\n",
       "        vertical-align: middle;\n",
       "    }\n",
       "\n",
       "    .dataframe tbody tr th {\n",
       "        vertical-align: top;\n",
       "    }\n",
       "\n",
       "    .dataframe thead th {\n",
       "        text-align: right;\n",
       "    }\n",
       "</style>\n",
       "<table border=\"1\" class=\"dataframe\">\n",
       "  <thead>\n",
       "    <tr style=\"text-align: right;\">\n",
       "      <th></th>\n",
       "      <th>mapped CEN.pk number</th>\n",
       "      <th>hit pan-genome number</th>\n",
       "    </tr>\n",
       "  </thead>\n",
       "  <tbody>\n",
       "    <tr>\n",
       "      <th>na1011 pangenome</th>\n",
       "      <td>5202</td>\n",
       "      <td>6075</td>\n",
       "    </tr>\n",
       "    <tr>\n",
       "      <th>lg1392 pangenome</th>\n",
       "      <td>4989</td>\n",
       "      <td>4906</td>\n",
       "    </tr>\n",
       "    <tr>\n",
       "      <th>this1800 pangenome</th>\n",
       "      <td>5351</td>\n",
       "      <td>5218</td>\n",
       "    </tr>\n",
       "  </tbody>\n",
       "</table>\n",
       "</div>"
      ],
      "text/plain": [
       "                    mapped CEN.pk number  hit pan-genome number\n",
       "na1011 pangenome                    5202                   6075\n",
       "lg1392 pangenome                    4989                   4906\n",
       "this1800 pangenome                  5351                   5218"
      ]
     },
     "execution_count": 6,
     "metadata": {},
     "output_type": "execute_result"
    }
   ],
   "source": [
    "df_mapping_cenpk_gene_count=pd.DataFrame(index=[\"mapped CEN.pk number\",\"hit pan-genome number\"])\n",
    "df_mapping_cenpk_gene_count[\"na1011 pangenome\"]=[len(set(df_napan_cenpk_blastp.index.tolist())),len(set(df_napan_cenpk_blastp[\"subject\"].tolist()))]\n",
    "df_mapping_cenpk_gene_count[\"lg1392 pangenome\"]=[len(set(df_lgpan_cenpk_blastp.index.tolist())),len(set(df_lgpan_cenpk_blastp[\"subject\"].tolist()))]\n",
    "df_mapping_cenpk_gene_count[\"this1800 pangenome\"]=[len(set(df_pan1800_cenpk_blastp.index.tolist())),len(set(df_pan1800_cenpk_blastp[\"subject\"].tolist()))]\n",
    "df_mapping_cenpk_gene_count.T"
   ]
  },
  {
   "cell_type": "code",
   "execution_count": 11,
   "metadata": {},
   "outputs": [],
   "source": [
    "# df_pan1800_cenpk_blastp\n",
    "# df_pan1800_blastp\n",
    "# len(set(list(df_pan1800_cenpk_blastp[\"subject\"].unique())+list(df_pan1800_blastp[\"subject\"].unique())))\n"
   ]
  },
  {
   "attachments": {},
   "cell_type": "markdown",
   "metadata": {},
   "source": [
    "- conclusion:<br>\n",
    "    CEN.PK and S288c BLASTp show the same result that new pan-genome has a better coverage to S.cerevisiae strain proteome"
   ]
  },
  {
   "attachments": {},
   "cell_type": "markdown",
   "metadata": {},
   "source": [
    "### parse blastp result:pan1800_v2 vs lgpangenome/napangenome"
   ]
  },
  {
   "cell_type": "code",
   "execution_count": 14,
   "metadata": {},
   "outputs": [],
   "source": [
    "blastp_result_dir=r\"code\\3.pan-genome_construction\\3.pan-genome_comparison\\output/\"\n",
    "df_pan1800_napan_blastp=parse_blastp_result(blastp_dir=blastp_result_dir,\n",
    "                                            blastp_file=\"pan1800_v2_vs_pan1011_blastp.txt\",\n",
    "                                            query=\"pan1800_50_70_v2.fasta\",\n",
    "                                            query_dir=r\"data\\genome\",\n",
    "                                            subject=\"pan1011_v1.fasta\",\n",
    "                                            subject_dir=r\"data\\genome\")\n",
    "df_pan1800_lgpan_blastp=parse_blastp_result(blastp_dir=blastp_result_dir,\n",
    "                                            blastp_file=\"pan1800_v2_vs_lgpan_blastp.txt\",\n",
    "                                            query=\"pan1800_50_70_v2.fasta\",\n",
    "                                            query_dir=r\"data\\genome\",\n",
    "                                            subject=\"lg_pangenome.fasta\",\n",
    "                                            subject_dir=r\"data\\genome\")\n",
    "\n",
    "# df_pan1800_napan_blastp=blastp_result_filter(df_pan1800_napan_blastp,cov=0.4,pid=0.5)\n",
    "# df_pan1800_lgpan_blastp=blastp_result_filter(df_pan1800_lgpan_blastp,cov=0.4,pid=0.5)\n"
   ]
  },
  {
   "cell_type": "code",
   "execution_count": 15,
   "metadata": {},
   "outputs": [
    {
     "data": {
      "text/html": [
       "<div>\n",
       "<style scoped>\n",
       "    .dataframe tbody tr th:only-of-type {\n",
       "        vertical-align: middle;\n",
       "    }\n",
       "\n",
       "    .dataframe tbody tr th {\n",
       "        vertical-align: top;\n",
       "    }\n",
       "\n",
       "    .dataframe thead th {\n",
       "        text-align: right;\n",
       "    }\n",
       "</style>\n",
       "<table border=\"1\" class=\"dataframe\">\n",
       "  <thead>\n",
       "    <tr style=\"text-align: right;\">\n",
       "      <th></th>\n",
       "      <th>mapped pan1800 number</th>\n",
       "      <th>hit pan-genome number</th>\n",
       "    </tr>\n",
       "  </thead>\n",
       "  <tbody>\n",
       "    <tr>\n",
       "      <th>na1011 pangenome</th>\n",
       "      <td>6612</td>\n",
       "      <td>7473</td>\n",
       "    </tr>\n",
       "    <tr>\n",
       "      <th>lg1392 pangenome</th>\n",
       "      <td>7007</td>\n",
       "      <td>6583</td>\n",
       "    </tr>\n",
       "  </tbody>\n",
       "</table>\n",
       "</div>"
      ],
      "text/plain": [
       "                  mapped pan1800 number  hit pan-genome number\n",
       "na1011 pangenome                   6612                   7473\n",
       "lg1392 pangenome                   7007                   6583"
      ]
     },
     "execution_count": 15,
     "metadata": {},
     "output_type": "execute_result"
    }
   ],
   "source": [
    "df_mapping_pan1800_gene_count=pd.DataFrame(index=[\"mapped pan1800 number\",\"hit pan-genome number\"])\n",
    "df_mapping_pan1800_gene_count[\"na1011 pangenome\"]=[len(set(df_pan1800_napan_blastp.index.tolist())),len(set(df_pan1800_napan_blastp[\"subject\"].tolist()))]\n",
    "df_mapping_pan1800_gene_count[\"lg1392 pangenome\"]=[len(set(df_pan1800_lgpan_blastp.index.tolist())),len(set(df_pan1800_lgpan_blastp[\"subject\"].tolist()))]\n",
    "df_mapping_pan1800_gene_count.T"
   ]
  },
  {
   "attachments": {},
   "cell_type": "markdown",
   "metadata": {},
   "source": [
    "- conclusion:<br>\n",
    "    according to pan1800_vs_napangenome blastp result, 7473 genes only hit to 6612 pan1800 genes,indicating that na1011 pangenome may be redundant"
   ]
  },
  {
   "attachments": {},
   "cell_type": "markdown",
   "metadata": {},
   "source": []
  }
 ],
 "metadata": {
  "kernelspec": {
   "display_name": "data",
   "language": "python",
   "name": "python3"
  },
  "language_info": {
   "codemirror_mode": {
    "name": "ipython",
    "version": 3
   },
   "file_extension": ".py",
   "mimetype": "text/x-python",
   "name": "python",
   "nbconvert_exporter": "python",
   "pygments_lexer": "ipython3",
   "version": "3.11.7"
  },
  "orig_nbformat": 4
 },
 "nbformat": 4,
 "nbformat_minor": 2
}
