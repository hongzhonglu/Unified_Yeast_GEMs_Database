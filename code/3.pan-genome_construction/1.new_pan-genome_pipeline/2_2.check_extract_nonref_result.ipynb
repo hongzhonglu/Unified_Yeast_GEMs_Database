{
 "cells": [
  {
   "attachments": {},
   "cell_type": "markdown",
   "metadata": {},
   "source": [
    "### check the nonref gene number for each sce strain according to BLASTp with S288c\n",
    "- 1900_s288c_nonref_v2: coverage of s288c gene > 0.6, identity > 0.6\n",
    "- 1900_s288c_nonref_v3: coverage of s288c gene > 0.5, identity > 0.7"
   ]
  },
  {
   "attachments": {},
   "cell_type": "markdown",
   "metadata": {},
   "source": [
    "### 1. 1900_s288c_nonref_v2 evaluation"
   ]
  },
  {
   "cell_type": "code",
   "execution_count": 3,
   "metadata": {},
   "outputs": [],
   "source": [
    "import pandas as pd\n",
    "import os\n",
    "os.chdir(r\"D:\\github\\Unified_Yeast_GEMs_Database\")"
   ]
  },
  {
   "cell_type": "code",
   "execution_count": 9,
   "metadata": {},
   "outputs": [
    {
     "data": {
      "text/html": [
       "<div>\n",
       "<style scoped>\n",
       "    .dataframe tbody tr th:only-of-type {\n",
       "        vertical-align: middle;\n",
       "    }\n",
       "\n",
       "    .dataframe tbody tr th {\n",
       "        vertical-align: top;\n",
       "    }\n",
       "\n",
       "    .dataframe thead th {\n",
       "        text-align: right;\n",
       "    }\n",
       "</style>\n",
       "<table border=\"1\" class=\"dataframe\">\n",
       "  <thead>\n",
       "    <tr style=\"text-align: right;\">\n",
       "      <th></th>\n",
       "      <th>nonref_gene_numb</th>\n",
       "      <th>ref_gene_numb</th>\n",
       "      <th>s288c_gene_numb</th>\n",
       "    </tr>\n",
       "  </thead>\n",
       "  <tbody>\n",
       "    <tr>\n",
       "      <th>AAA_6.re.fasta</th>\n",
       "      <td>52</td>\n",
       "      <td>6298</td>\n",
       "      <td>6344</td>\n",
       "    </tr>\n",
       "    <tr>\n",
       "      <th>AAB_6.re.fasta</th>\n",
       "      <td>84</td>\n",
       "      <td>6287</td>\n",
       "      <td>6301</td>\n",
       "    </tr>\n",
       "    <tr>\n",
       "      <th>AAC_6.re.fasta</th>\n",
       "      <td>108</td>\n",
       "      <td>6963</td>\n",
       "      <td>6135</td>\n",
       "    </tr>\n",
       "    <tr>\n",
       "      <th>AAD_6.re.fasta</th>\n",
       "      <td>79</td>\n",
       "      <td>6229</td>\n",
       "      <td>6269</td>\n",
       "    </tr>\n",
       "    <tr>\n",
       "      <th>AAE_6.re.fasta</th>\n",
       "      <td>69</td>\n",
       "      <td>6261</td>\n",
       "      <td>6261</td>\n",
       "    </tr>\n",
       "    <tr>\n",
       "      <th>...</th>\n",
       "      <td>...</td>\n",
       "      <td>...</td>\n",
       "      <td>...</td>\n",
       "    </tr>\n",
       "    <tr>\n",
       "      <th>YDH.re.fasta</th>\n",
       "      <td>54</td>\n",
       "      <td>6385</td>\n",
       "      <td>6330</td>\n",
       "    </tr>\n",
       "    <tr>\n",
       "      <th>YDI.re.fasta</th>\n",
       "      <td>78</td>\n",
       "      <td>6323</td>\n",
       "      <td>6306</td>\n",
       "    </tr>\n",
       "    <tr>\n",
       "      <th>YDJ.re.fasta</th>\n",
       "      <td>60</td>\n",
       "      <td>6306</td>\n",
       "      <td>6280</td>\n",
       "    </tr>\n",
       "    <tr>\n",
       "      <th>YDK.re.fasta</th>\n",
       "      <td>77</td>\n",
       "      <td>6266</td>\n",
       "      <td>6262</td>\n",
       "    </tr>\n",
       "    <tr>\n",
       "      <th>YDL.re.fasta</th>\n",
       "      <td>80</td>\n",
       "      <td>6333</td>\n",
       "      <td>6282</td>\n",
       "    </tr>\n",
       "  </tbody>\n",
       "</table>\n",
       "<p>1901 rows × 3 columns</p>\n",
       "</div>"
      ],
      "text/plain": [
       "                nonref_gene_numb  ref_gene_numb  s288c_gene_numb\n",
       "AAA_6.re.fasta                52           6298             6344\n",
       "AAB_6.re.fasta                84           6287             6301\n",
       "AAC_6.re.fasta               108           6963             6135\n",
       "AAD_6.re.fasta                79           6229             6269\n",
       "AAE_6.re.fasta                69           6261             6261\n",
       "...                          ...            ...              ...\n",
       "YDH.re.fasta                  54           6385             6330\n",
       "YDI.re.fasta                  78           6323             6306\n",
       "YDJ.re.fasta                  60           6306             6280\n",
       "YDK.re.fasta                  77           6266             6262\n",
       "YDL.re.fasta                  80           6333             6282\n",
       "\n",
       "[1901 rows x 3 columns]"
      ]
     },
     "execution_count": 9,
     "metadata": {},
     "output_type": "execute_result"
    }
   ],
   "source": [
    "#load extract nonref df result\n",
    "df_sce_nonref = pd.read_csv(r\"code\\3.pan-genome_construction\\1.new_pan-genome_pipeline\\output\\1900_s288c_nonref_gene_count_v2.csv\",index_col=0)\n",
    "df_sce_nonref"
   ]
  },
  {
   "attachments": {},
   "cell_type": "markdown",
   "metadata": {},
   "source": [
    "#### check nonref gene number for each strain"
   ]
  },
  {
   "cell_type": "code",
   "execution_count": 10,
   "metadata": {},
   "outputs": [
    {
     "data": {
      "text/plain": [
       "count    1901.000000\n",
       "mean       83.770121\n",
       "std        43.274695\n",
       "min         0.000000\n",
       "25%        66.000000\n",
       "50%        75.000000\n",
       "75%        88.000000\n",
       "max       728.000000\n",
       "Name: nonref_gene_numb, dtype: float64"
      ]
     },
     "execution_count": 10,
     "metadata": {},
     "output_type": "execute_result"
    }
   ],
   "source": [
    "# check nonref gene number distribution\n",
    "df_sce_nonref['nonref_gene_numb'].describe()"
   ]
  },
  {
   "cell_type": "code",
   "execution_count": 11,
   "metadata": {},
   "outputs": [
    {
     "data": {
      "image/png": "[encoded data removed]",
      "text/plain": [
       "<Figure size 432x288 with 1 Axes>"
      ]
     },
     "metadata": {
      "needs_background": "light"
     },
     "output_type": "display_data"
    }
   ],
   "source": [
    "# plot the distribution of nonref gene number\n",
    "import matplotlib.pyplot as plt\n",
    "plt.hist(df_sce_nonref['nonref_gene_numb'],bins=100)\n",
    "plt.show()"
   ]
  },
  {
   "attachments": {},
   "cell_type": "markdown",
   "metadata": {},
   "source": [
    "#### check mapped s288c gene number for each strain\n",
    "- average mapped s288c gene number for each strain is 6222"
   ]
  },
  {
   "cell_type": "code",
   "execution_count": 12,
   "metadata": {},
   "outputs": [
    {
     "data": {
      "text/plain": [
       "count    1901.000000\n",
       "mean     6222.157286\n",
       "std       281.629019\n",
       "min      1023.000000\n",
       "25%      6204.000000\n",
       "50%      6274.000000\n",
       "75%      6316.000000\n",
       "max      6716.000000\n",
       "Name: s288c_gene_numb, dtype: float64"
      ]
     },
     "execution_count": 12,
     "metadata": {},
     "output_type": "execute_result"
    }
   ],
   "source": [
    "# check s288c mapped gene number\n",
    "df_sce_nonref['s288c_gene_numb'].describe()"
   ]
  },
  {
   "cell_type": "code",
   "execution_count": 13,
   "metadata": {},
   "outputs": [
    {
     "data": {
      "image/png": "[encoded data removed]",
      "text/plain": [
       "<Figure size 432x288 with 1 Axes>"
      ]
     },
     "metadata": {
      "needs_background": "light"
     },
     "output_type": "display_data"
    }
   ],
   "source": [
    "df_sce_nonref['s288c_gene_numb'].hist(bins=100)\n",
    "plt.show()"
   ]
  },
  {
   "cell_type": "code",
   "execution_count": 14,
   "metadata": {},
   "outputs": [
    {
     "name": "stdout",
     "output_type": "stream",
     "text": [
      "strain number with s288c gene < 0.85* total genome:  47\n"
     ]
    }
   ],
   "source": [
    "print(\"strain number with s288c gene < 0.85* total genome: \",len(df_sce_nonref[df_sce_nonref['s288c_gene_numb']<6716*0.85]))"
   ]
  },
  {
   "attachments": {},
   "cell_type": "markdown",
   "metadata": {},
   "source": [
    "#### filter the nonref genes by remove bad strains in 2 stratagies:\n",
    "1. remove strains with mapped s288c gene number < 0.85 * median mapped s288c gene number\n",
    "2. remove strain according genome completeness ecaluated by BUSCO "
   ]
  },
  {
   "attachments": {},
   "cell_type": "markdown",
   "metadata": {},
   "source": [
    "### 2. 1900_s288c_nonref_v3 evaluation"
   ]
  },
  {
   "cell_type": "code",
   "execution_count": 15,
   "metadata": {},
   "outputs": [
    {
     "data": {
      "text/html": [
       "<div>\n",
       "<style scoped>\n",
       "    .dataframe tbody tr th:only-of-type {\n",
       "        vertical-align: middle;\n",
       "    }\n",
       "\n",
       "    .dataframe tbody tr th {\n",
       "        vertical-align: top;\n",
       "    }\n",
       "\n",
       "    .dataframe thead th {\n",
       "        text-align: right;\n",
       "    }\n",
       "</style>\n",
       "<table border=\"1\" class=\"dataframe\">\n",
       "  <thead>\n",
       "    <tr style=\"text-align: right;\">\n",
       "      <th></th>\n",
       "      <th>nonref_gene_numb</th>\n",
       "      <th>ref_gene_numb</th>\n",
       "      <th>s288c_gene_numb</th>\n",
       "    </tr>\n",
       "  </thead>\n",
       "  <tbody>\n",
       "    <tr>\n",
       "      <th>AAA_6.re.fa</th>\n",
       "      <td>50</td>\n",
       "      <td>6300</td>\n",
       "      <td>6339</td>\n",
       "    </tr>\n",
       "    <tr>\n",
       "      <th>AAB_6.re.fa</th>\n",
       "      <td>88</td>\n",
       "      <td>6283</td>\n",
       "      <td>6300</td>\n",
       "    </tr>\n",
       "    <tr>\n",
       "      <th>AAC_6.re.fa</th>\n",
       "      <td>77</td>\n",
       "      <td>6994</td>\n",
       "      <td>6136</td>\n",
       "    </tr>\n",
       "    <tr>\n",
       "      <th>AAD_6.re.fa</th>\n",
       "      <td>69</td>\n",
       "      <td>6239</td>\n",
       "      <td>6265</td>\n",
       "    </tr>\n",
       "    <tr>\n",
       "      <th>AAE_6.re.fa</th>\n",
       "      <td>63</td>\n",
       "      <td>6267</td>\n",
       "      <td>6271</td>\n",
       "    </tr>\n",
       "    <tr>\n",
       "      <th>...</th>\n",
       "      <td>...</td>\n",
       "      <td>...</td>\n",
       "      <td>...</td>\n",
       "    </tr>\n",
       "    <tr>\n",
       "      <th>YDH.re.fa</th>\n",
       "      <td>55</td>\n",
       "      <td>6384</td>\n",
       "      <td>6318</td>\n",
       "    </tr>\n",
       "    <tr>\n",
       "      <th>YDI.re.fa</th>\n",
       "      <td>61</td>\n",
       "      <td>6340</td>\n",
       "      <td>6311</td>\n",
       "    </tr>\n",
       "    <tr>\n",
       "      <th>YDJ.re.fa</th>\n",
       "      <td>57</td>\n",
       "      <td>6309</td>\n",
       "      <td>6267</td>\n",
       "    </tr>\n",
       "    <tr>\n",
       "      <th>YDK.re.fa</th>\n",
       "      <td>70</td>\n",
       "      <td>6273</td>\n",
       "      <td>6259</td>\n",
       "    </tr>\n",
       "    <tr>\n",
       "      <th>YDL.re.fa</th>\n",
       "      <td>72</td>\n",
       "      <td>6341</td>\n",
       "      <td>6310</td>\n",
       "    </tr>\n",
       "  </tbody>\n",
       "</table>\n",
       "<p>1901 rows × 3 columns</p>\n",
       "</div>"
      ],
      "text/plain": [
       "             nonref_gene_numb  ref_gene_numb  s288c_gene_numb\n",
       "AAA_6.re.fa                50           6300             6339\n",
       "AAB_6.re.fa                88           6283             6300\n",
       "AAC_6.re.fa                77           6994             6136\n",
       "AAD_6.re.fa                69           6239             6265\n",
       "AAE_6.re.fa                63           6267             6271\n",
       "...                       ...            ...              ...\n",
       "YDH.re.fa                  55           6384             6318\n",
       "YDI.re.fa                  61           6340             6311\n",
       "YDJ.re.fa                  57           6309             6267\n",
       "YDK.re.fa                  70           6273             6259\n",
       "YDL.re.fa                  72           6341             6310\n",
       "\n",
       "[1901 rows x 3 columns]"
      ]
     },
     "execution_count": 15,
     "metadata": {},
     "output_type": "execute_result"
    }
   ],
   "source": [
    "#load extract nonref df result\n",
    "df_sce_nonref = pd.read_csv(r\"code\\3.pan-genome_construction\\1.new_pan-genome_pipeline\\output\\1900_s288c_nonref_gene_count_v3.csv\",index_col=0)\n",
    "df_sce_nonref"
   ]
  },
  {
   "cell_type": "code",
   "execution_count": 16,
   "metadata": {},
   "outputs": [
    {
     "data": {
      "text/plain": [
       "count    1901.000000\n",
       "mean       71.488690\n",
       "std        30.704063\n",
       "min         0.000000\n",
       "25%        59.000000\n",
       "50%        68.000000\n",
       "75%        77.000000\n",
       "max       556.000000\n",
       "Name: nonref_gene_numb, dtype: float64"
      ]
     },
     "execution_count": 16,
     "metadata": {},
     "output_type": "execute_result"
    }
   ],
   "source": [
    "# check nonref gene number distribution\n",
    "df_sce_nonref['nonref_gene_numb'].describe()"
   ]
  },
  {
   "cell_type": "code",
   "execution_count": 17,
   "metadata": {},
   "outputs": [
    {
     "data": {
      "image/png": "[encoded data removed]",
      "text/plain": [
       "<Figure size 432x288 with 1 Axes>"
      ]
     },
     "metadata": {},
     "output_type": "display_data"
    }
   ],
   "source": [
    "# plot the distribution of nonref gene number\n",
    "import matplotlib.pyplot as plt\n",
    "import seaborn as sns\n",
    "sns.set()\n",
    "plt.hist(df_sce_nonref['nonref_gene_numb'],bins=100)\n",
    "plt.show()"
   ]
  },
  {
   "cell_type": "code",
   "execution_count": 18,
   "metadata": {},
   "outputs": [
    {
     "data": {
      "text/plain": [
       "count    1901.000000\n",
       "mean     6223.855865\n",
       "std       276.405372\n",
       "min      1051.000000\n",
       "25%      6205.000000\n",
       "50%      6271.000000\n",
       "75%      6315.000000\n",
       "max      6716.000000\n",
       "Name: s288c_gene_numb, dtype: float64"
      ]
     },
     "execution_count": 18,
     "metadata": {},
     "output_type": "execute_result"
    }
   ],
   "source": [
    "# check s288c mapped gene number\n",
    "df_sce_nonref['s288c_gene_numb'].describe()"
   ]
  },
  {
   "cell_type": "code",
   "execution_count": 19,
   "metadata": {},
   "outputs": [
    {
     "data": {
      "image/png": "[encoded data removed]",
      "text/plain": [
       "<Figure size 432x288 with 1 Axes>"
      ]
     },
     "metadata": {},
     "output_type": "display_data"
    }
   ],
   "source": [
    "df_sce_nonref['s288c_gene_numb'].hist(bins=100)\n",
    "sns.set()\n",
    "plt.show()"
   ]
  },
  {
   "attachments": {},
   "cell_type": "markdown",
   "metadata": {},
   "source": [
    "### 3. 1900_s288c_nonref_v4 evaluation"
   ]
  },
  {
   "cell_type": "code",
   "execution_count": 4,
   "metadata": {},
   "outputs": [
    {
     "data": {
      "text/html": [
       "<div>\n",
       "<style scoped>\n",
       "    .dataframe tbody tr th:only-of-type {\n",
       "        vertical-align: middle;\n",
       "    }\n",
       "\n",
       "    .dataframe tbody tr th {\n",
       "        vertical-align: top;\n",
       "    }\n",
       "\n",
       "    .dataframe thead th {\n",
       "        text-align: right;\n",
       "    }\n",
       "</style>\n",
       "<table border=\"1\" class=\"dataframe\">\n",
       "  <thead>\n",
       "    <tr style=\"text-align: right;\">\n",
       "      <th></th>\n",
       "      <th>nonref_gene_numb</th>\n",
       "      <th>ref_gene_numb</th>\n",
       "      <th>s288c_gene_numb</th>\n",
       "    </tr>\n",
       "  </thead>\n",
       "  <tbody>\n",
       "    <tr>\n",
       "      <th>AAA_6.re.fa</th>\n",
       "      <td>44</td>\n",
       "      <td>6306</td>\n",
       "      <td>6339</td>\n",
       "    </tr>\n",
       "    <tr>\n",
       "      <th>AAB_6.re.fa</th>\n",
       "      <td>73</td>\n",
       "      <td>6298</td>\n",
       "      <td>6300</td>\n",
       "    </tr>\n",
       "    <tr>\n",
       "      <th>AAC_6.re.fa</th>\n",
       "      <td>46</td>\n",
       "      <td>7025</td>\n",
       "      <td>6136</td>\n",
       "    </tr>\n",
       "    <tr>\n",
       "      <th>AAD_6.re.fa</th>\n",
       "      <td>60</td>\n",
       "      <td>6248</td>\n",
       "      <td>6265</td>\n",
       "    </tr>\n",
       "    <tr>\n",
       "      <th>AAE_6.re.fa</th>\n",
       "      <td>50</td>\n",
       "      <td>6280</td>\n",
       "      <td>6271</td>\n",
       "    </tr>\n",
       "    <tr>\n",
       "      <th>...</th>\n",
       "      <td>...</td>\n",
       "      <td>...</td>\n",
       "      <td>...</td>\n",
       "    </tr>\n",
       "    <tr>\n",
       "      <th>YDH.re.fa</th>\n",
       "      <td>46</td>\n",
       "      <td>6393</td>\n",
       "      <td>6318</td>\n",
       "    </tr>\n",
       "    <tr>\n",
       "      <th>YDI.re.fa</th>\n",
       "      <td>56</td>\n",
       "      <td>6345</td>\n",
       "      <td>6311</td>\n",
       "    </tr>\n",
       "    <tr>\n",
       "      <th>YDJ.re.fa</th>\n",
       "      <td>43</td>\n",
       "      <td>6323</td>\n",
       "      <td>6267</td>\n",
       "    </tr>\n",
       "    <tr>\n",
       "      <th>YDK.re.fa</th>\n",
       "      <td>52</td>\n",
       "      <td>6291</td>\n",
       "      <td>6259</td>\n",
       "    </tr>\n",
       "    <tr>\n",
       "      <th>YDL.re.fa</th>\n",
       "      <td>64</td>\n",
       "      <td>6349</td>\n",
       "      <td>6310</td>\n",
       "    </tr>\n",
       "  </tbody>\n",
       "</table>\n",
       "<p>1901 rows × 3 columns</p>\n",
       "</div>"
      ],
      "text/plain": [
       "             nonref_gene_numb  ref_gene_numb  s288c_gene_numb\n",
       "AAA_6.re.fa                44           6306             6339\n",
       "AAB_6.re.fa                73           6298             6300\n",
       "AAC_6.re.fa                46           7025             6136\n",
       "AAD_6.re.fa                60           6248             6265\n",
       "AAE_6.re.fa                50           6280             6271\n",
       "...                       ...            ...              ...\n",
       "YDH.re.fa                  46           6393             6318\n",
       "YDI.re.fa                  56           6345             6311\n",
       "YDJ.re.fa                  43           6323             6267\n",
       "YDK.re.fa                  52           6291             6259\n",
       "YDL.re.fa                  64           6349             6310\n",
       "\n",
       "[1901 rows x 3 columns]"
      ]
     },
     "execution_count": 4,
     "metadata": {},
     "output_type": "execute_result"
    }
   ],
   "source": [
    "#load extract nonref df result\n",
    "df_sce_nonref = pd.read_csv(r\"code\\3.pan-genome_construction\\1.new_pan-genome_pipeline\\output\\1900_s288c_nonref_gene_count_v4.csv\",index_col=0)\n",
    "df_sce_nonref"
   ]
  },
  {
   "cell_type": "code",
   "execution_count": 5,
   "metadata": {},
   "outputs": [
    {
     "data": {
      "text/plain": [
       "104681"
      ]
     },
     "execution_count": 5,
     "metadata": {},
     "output_type": "execute_result"
    }
   ],
   "source": [
    "# sum nonref gene number\n",
    "df_sce_nonref['nonref_gene_numb'].sum()"
   ]
  },
  {
   "cell_type": "code",
   "execution_count": 21,
   "metadata": {},
   "outputs": [
    {
     "data": {
      "text/plain": [
       "count    1901.000000\n",
       "mean       55.066281\n",
       "std        13.495567\n",
       "min         0.000000\n",
       "25%        47.000000\n",
       "50%        54.000000\n",
       "75%        61.000000\n",
       "max       157.000000\n",
       "Name: nonref_gene_numb, dtype: float64"
      ]
     },
     "execution_count": 21,
     "metadata": {},
     "output_type": "execute_result"
    }
   ],
   "source": [
    "# check nonref gene number distribution\n",
    "df_sce_nonref['nonref_gene_numb'].describe()"
   ]
  },
  {
   "cell_type": "code",
   "execution_count": 22,
   "metadata": {},
   "outputs": [
    {
     "data": {
      "image/png": "[encoded data removed]",
      "text/plain": [
       "<Figure size 432x288 with 1 Axes>"
      ]
     },
     "metadata": {},
     "output_type": "display_data"
    }
   ],
   "source": [
    "# plot the distribution of nonref gene number\n",
    "import matplotlib.pyplot as plt\n",
    "import seaborn as sns\n",
    "sns.set()\n",
    "plt.hist(df_sce_nonref['nonref_gene_numb'],bins=100)\n",
    "plt.show()"
   ]
  },
  {
   "cell_type": "code",
   "execution_count": 23,
   "metadata": {},
   "outputs": [
    {
     "data": {
      "text/plain": [
       "count    1901.000000\n",
       "mean     6223.855865\n",
       "std       276.405372\n",
       "min      1051.000000\n",
       "25%      6205.000000\n",
       "50%      6271.000000\n",
       "75%      6315.000000\n",
       "max      6716.000000\n",
       "Name: s288c_gene_numb, dtype: float64"
      ]
     },
     "execution_count": 23,
     "metadata": {},
     "output_type": "execute_result"
    }
   ],
   "source": [
    "# check s288c mapped gene number\n",
    "df_sce_nonref['s288c_gene_numb'].describe()"
   ]
  },
  {
   "cell_type": "code",
   "execution_count": 24,
   "metadata": {},
   "outputs": [
    {
     "data": {
      "image/png": "[encoded data removed]",
      "text/plain": [
       "<Figure size 432x288 with 1 Axes>"
      ]
     },
     "metadata": {},
     "output_type": "display_data"
    }
   ],
   "source": [
    "df_sce_nonref['s288c_gene_numb'].hist(bins=100)\n",
    "sns.set()\n",
    "plt.show()"
   ]
  },
  {
   "cell_type": "markdown",
   "metadata": {},
   "source": [
    "### compare the result of v2 and v3:\n",
    "|nonref sequence|nonref gene number:mean/[range]|mapped s288c gene number:mean/[range]|\n",
    "|---|---|---|\n",
    "|nonref_v2|83/[0,728]  | 6222/[1023,6716] |\n",
    "|nonref_v3|71/[0,556]  | 6223/[1051,6716] |"
   ]
  },
  {
   "cell_type": "code",
   "execution_count": null,
   "metadata": {},
   "outputs": [],
   "source": []
  }
 ],
 "metadata": {
  "kernelspec": {
   "display_name": "why",
   "language": "python",
   "name": "python3"
  },
  "language_info": {
   "codemirror_mode": {
    "name": "ipython",
    "version": 3
   },
   "file_extension": ".py",
   "mimetype": "text/x-python",
   "name": "python",
   "nbconvert_exporter": "python",
   "pygments_lexer": "ipython3",
   "version": "3.12.0"
  },
  "orig_nbformat": 4
 },
 "nbformat": 4,
 "nbformat_minor": 2
}
